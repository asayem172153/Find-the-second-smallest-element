{
  "nbformat": 4,
  "nbformat_minor": 0,
  "metadata": {
    "colab": {
      "provenance": []
    },
    "kernelspec": {
      "name": "python3",
      "display_name": "Python 3"
    },
    "language_info": {
      "name": "python"
    }
  },
  "cells": [
    {
      "cell_type": "code",
      "execution_count": 5,
      "metadata": {
        "colab": {
          "base_uri": "https://localhost:8080/"
        },
        "id": "hACNeuaw8zLZ",
        "outputId": "bd91e3f9-4940-4db6-9d07-79d59cdae0f7"
      },
      "outputs": [
        {
          "output_type": "stream",
          "name": "stdout",
          "text": [
            "The second smallest element is: 0\n"
          ]
        }
      ],
      "source": [
        "list1 = [55,8,5,6,7,-1,0,1,4,3]\n",
        "\n",
        "list1 = sorted(list1)\n",
        "\n",
        "print('The second smallest element is:',list1[1])\n"
      ]
    },
    {
      "cell_type": "code",
      "source": [
        "#copy from internet just because lacking of time\n",
        "# used this kind of method here check my github 'Find the second largest element in a list of integers'\n",
        "def find_second_smallest(numbers):\n",
        "    if len(numbers) < 2:\n",
        "        return None\n",
        "\n",
        "    smallest = float('inf')\n",
        "    second_smallest = float('inf')\n",
        "\n",
        "    for num in numbers:\n",
        "        if num < smallest:\n",
        "            second_smallest = smallest\n",
        "            smallest = num\n",
        "        elif num < second_smallest and num != smallest:\n",
        "            second_smallest = num\n",
        "\n",
        "    if second_smallest == float('inf'):\n",
        "        return None\n",
        "    else:\n",
        "        return second_smallest\n",
        "\n",
        "# Example usage\n",
        "numbers = [5, 2, 8, 3, 1, 9, 4, 6, 7]\n",
        "\n",
        "second_smallest = find_second_smallest(numbers)\n",
        "if second_smallest is not None:\n",
        "    print(\"Second smallest element:\", second_smallest)\n",
        "else:\n",
        "    print(\"There is no second smallest element.\")"
      ],
      "metadata": {
        "colab": {
          "base_uri": "https://localhost:8080/"
        },
        "id": "f-TF_aj29yC-",
        "outputId": "2ec71414-7701-4723-f18b-08f973101dc1"
      },
      "execution_count": 6,
      "outputs": [
        {
          "output_type": "stream",
          "name": "stdout",
          "text": [
            "Second smallest element: 2\n"
          ]
        }
      ]
    }
  ]
}